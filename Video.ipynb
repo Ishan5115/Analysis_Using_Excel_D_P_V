{
  "nbformat": 4,
  "nbformat_minor": 0,
  "metadata": {
    "colab": {
      "provenance": [],
      "authorship_tag": "ABX9TyNu/C+fsLGBShwi0nBVVPOT",
      "include_colab_link": true
    },
    "kernelspec": {
      "name": "python3",
      "display_name": "Python 3"
    },
    "language_info": {
      "name": "python"
    }
  },
  "cells": [
    {
      "cell_type": "markdown",
      "metadata": {
        "id": "view-in-github",
        "colab_type": "text"
      },
      "source": [
        "<a href=\"https://colab.research.google.com/github/Ishan5115/Analysis_Using_Excel_D_P_V/blob/main/Video.ipynb\" target=\"_parent\"><img src=\"https://colab.research.google.com/assets/colab-badge.svg\" alt=\"Open In Colab\"/></a>"
      ]
    },
    {
      "cell_type": "code",
      "execution_count": null,
      "metadata": {
        "id": "B7CupHRqa1Bv"
      },
      "outputs": [],
      "source": [
        "#### first programme\n"
      ]
    },
    {
      "cell_type": "code",
      "source": [
        "print('Hello Hero Vired')"
      ],
      "metadata": {
        "colab": {
          "base_uri": "https://localhost:8080/"
        },
        "id": "vz0R_hh3a9_W",
        "outputId": "7a0312a7-6090-4a81-86ed-0d67073c7332"
      },
      "execution_count": null,
      "outputs": [
        {
          "output_type": "stream",
          "name": "stdout",
          "text": [
            "Hello Hero Vired\n"
          ]
        }
      ]
    },
    {
      "cell_type": "code",
      "source": [
        "name=input('enter the name')\n",
        "print('Hello'+name\n",
        "      )"
      ],
      "metadata": {
        "colab": {
          "base_uri": "https://localhost:8080/"
        },
        "id": "KJsjB6Mbb3k4",
        "outputId": "dea9ed43-2e2f-4236-8742-f4512fece0f9"
      },
      "execution_count": null,
      "outputs": [
        {
          "output_type": "stream",
          "name": "stdout",
          "text": [
            "enter the nameIshan Agarwal\n",
            "HelloIshan Agarwal\n"
          ]
        }
      ]
    },
    {
      "cell_type": "code",
      "source": [
        "items_ordered = 3\n",
        "price_per_item = 49.99\n",
        "total_cost = items_ordered * price_per_item\n",
        "print(total_cost)"
      ],
      "metadata": {
        "colab": {
          "base_uri": "https://localhost:8080/"
        },
        "id": "aykqeLwpdMJy",
        "outputId": "62c43010-c263-416d-b335-3633dd0eda0c"
      },
      "execution_count": null,
      "outputs": [
        {
          "output_type": "stream",
          "name": "stdout",
          "text": [
            "149.97\n"
          ]
        }
      ]
    },
    {
      "cell_type": "code",
      "source": [
        "disct_string = \"15\"\n",
        "discount = int(disct_string) # explicit conversion\n",
        "discount_price = total_cost-(total_cost*discount/100)\n",
        "print(discount_price)"
      ],
      "metadata": {
        "colab": {
          "base_uri": "https://localhost:8080/"
        },
        "id": "n1xfgeG-d4Xz",
        "outputId": "22101412-1cac-487b-c02f-4e05e4e18452"
      },
      "execution_count": null,
      "outputs": [
        {
          "output_type": "stream",
          "name": "stdout",
          "text": [
            "127.47449999999999\n"
          ]
        }
      ]
    }
  ]
}